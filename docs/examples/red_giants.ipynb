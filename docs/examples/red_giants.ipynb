{
 "cells": [
  {
   "cell_type": "markdown",
   "id": "c9798d29-e17c-4fb0-a521-74cda665a4ee",
   "metadata": {},
   "source": [
    "# seistron example\n",
    "\n",
    "*Bayesian inference of stellar parameters using an emulator trained on MESA/GYRE models with global asteroseismic data of red giants from the NASA Kepler mission*\n",
    "\n",
    "**Earl Patrick Bellinger** [(ORCID: 0000-0003-4456-4863)](https://orcid.org/0000-0003-4456-4863), Department of Astronomy, Yale University  \n",
    "\n",
    "*License*: [CC-BY-4.0](https://creativecommons.org/licenses/by/4.0/)"
   ]
  },
  {
   "cell_type": "markdown",
   "id": "12df2448-c648-456b-9440-60b2e3f699e6",
   "metadata": {},
   "source": [
    "*tags*: `seistron`, `red-giants`, `asteroseismology`, `mesa`, `gyre` "
   ]
  },
  {
   "cell_type": "code",
   "execution_count": null,
   "id": "06e432f7-2aad-4692-9d9f-175ed8aef2d6",
   "metadata": {},
   "outputs": [],
   "source": [
    "#### inference of a population of observed red giant's stellar parameters \n",
    "#### using an emulator neural network trained on a grid of MESA/GYRE models \n",
    "\n",
    "import seistron"
   ]
  },
  {
   "cell_type": "markdown",
   "id": "bdebe89d-ad60-411a-97d9-4e9ac58ccaef",
   "metadata": {},
   "source": [
    "## Observations"
   ]
  },
  {
   "cell_type": "code",
   "execution_count": null,
   "id": "ff14cb6f-f06a-4344-a0fa-2eb05f5215ec",
   "metadata": {},
   "outputs": [],
   "source": [
    "## load the observed data \n",
    "observations = seistron.data.red_giants.yu_2018() # Ji Yu 2018 data "
   ]
  },
  {
   "cell_type": "code",
   "execution_count": null,
   "id": "555a6a0c-7a94-4fec-a574-3f8d0c6fc75a",
   "metadata": {},
   "outputs": [],
   "source": [
    "seistron.visualize.hr_diagram(observations, cbar='[Fe/H]') # plot an HRD "
   ]
  },
  {
   "cell_type": "code",
   "execution_count": null,
   "id": "c1b5046e-5392-492f-8336-9e22eafd77fd",
   "metadata": {},
   "outputs": [],
   "source": [
    "seistron.visualize.kiel_diagram(observations) "
   ]
  },
  {
   "cell_type": "code",
   "execution_count": null,
   "id": "5b636c37-6b57-4672-882a-77d272e120de",
   "metadata": {},
   "outputs": [],
   "source": [
    "seistron.visualize.jcd_diagram(observations, cbar='Teff') "
   ]
  },
  {
   "cell_type": "markdown",
   "id": "7f9b766d-fe9f-4c35-85aa-16d169f428a4",
   "metadata": {},
   "source": [
    "## Theoretical models "
   ]
  },
  {
   "cell_type": "code",
   "execution_count": null,
   "id": "1f1b4900-c44d-47de-ac9d-f8533ca21150",
   "metadata": {},
   "outputs": [],
   "source": [
    "## load the theoretical models \n",
    "model_grid = seistron.models.red_giants.li_rg()   # Yaguang Li's red giants "
   ]
  },
  {
   "cell_type": "code",
   "execution_count": null,
   "id": "bf73a964-46fb-4fd9-bf73-7797b65cab4e",
   "metadata": {},
   "outputs": [],
   "source": [
    "seistron.visualize.hr_diagram(models=model_grid, cbar='M') "
   ]
  },
  {
   "cell_type": "code",
   "execution_count": null,
   "id": "6af632b9-971f-42e2-91c9-53cdb3f19860",
   "metadata": {},
   "outputs": [],
   "source": [
    "seistron.visualize.hr_diagram(observations, models=model_grid) "
   ]
  },
  {
   "cell_type": "markdown",
   "id": "bd5c4dac-20d4-4d19-ba5c-3f1b4174fd84",
   "metadata": {},
   "source": [
    "## Emulator"
   ]
  },
  {
   "cell_type": "code",
   "execution_count": null,
   "id": "5680ed55-e508-41f8-b9cb-3586e428a4c0",
   "metadata": {},
   "outputs": [],
   "source": [
    "## train or load the emulator \n",
    "pretrained_model_filename = 'transformer_rg.tron' # save or load here \n",
    "# emulator = seistron.emulate.transformer.train( \n",
    "#    model_grid, \n",
    "#    inputs=model_grid.inputs, \n",
    "#    outputs=model_grid.outputs) # need a GPU or computing cluster \n",
    "# emulator.save_pretrained(emulator, save_filename=pretrained_model_filename)\n",
    "emulator = seistron.emulator.load_pretrained(pretrained_model_filename) "
   ]
  },
  {
   "cell_type": "code",
   "execution_count": null,
   "id": "e64f0b2b-0b5f-4ea9-b0a8-85349c90fb63",
   "metadata": {},
   "outputs": [],
   "source": [
    "seistron.visualize.show_crossval_score(emulator) # visualize emulator accuracy "
   ]
  },
  {
   "cell_type": "code",
   "execution_count": null,
   "id": "4cd2d7f0-3a71-4373-8f02-d325aa53a8bb",
   "metadata": {},
   "outputs": [],
   "source": [
    "seistron.visualize.compare_emulators([\n",
    "    emulator, \n",
    "    seistron.emulator.linear(models=model_grid), \n",
    "    seistron.emulator.random_forest(models=model_grid, cv=True)\n",
    "]) "
   ]
  },
  {
   "cell_type": "code",
   "execution_count": null,
   "id": "4456fa1d-a1d3-4654-9b16-2575fc347089",
   "metadata": {},
   "outputs": [],
   "source": [
    "# for each output column, plot 1-to-1 line between the predicted and actual, and the residuals as a function of the actual \n",
    "seistron.visualize.show_residuals(emulator, \n",
    "    only=['Delta_nu', 'nu_max', 'Teff']) "
   ]
  },
  {
   "cell_type": "code",
   "execution_count": null,
   "id": "166f0b85-bd83-4705-8d4a-55aaca35e086",
   "metadata": {},
   "outputs": [],
   "source": [
    "emulator.summarize() # print std of residuals, which is representative of systematic interpolation errors that should be propagated "
   ]
  },
  {
   "cell_type": "markdown",
   "id": "dc719e52-255a-48fc-90cd-dce77663859e",
   "metadata": {},
   "source": [
    "## Inference"
   ]
  },
  {
   "cell_type": "code",
   "execution_count": null,
   "id": "4bd083aa-705d-4f02-b4eb-0ea9831e0646",
   "metadata": {},
   "outputs": [],
   "source": [
    "## apply the emulator to do inference on real data \n",
    "## first, do it for just one star to obtain posteriors for its mass, age, etc \n",
    "priors = {'M':   seistron.sample.priors.kroupa_IMF, \n",
    "          'age': seistron.sample.priors.flat([0, 13.8])}\n",
    "\n",
    "example_star = observations.iloc[0]\n",
    "MAP_one = seistron.sample.maximum_a_posteriori(example_star, priors=priors, \n",
    "    method='nelder-mead') # need a sensible starting point "
   ]
  },
  {
   "cell_type": "code",
   "execution_count": null,
   "id": "49c862c6-e2fe-4fd2-ad48-18bbd1083896",
   "metadata": {},
   "outputs": [],
   "source": [
    "samples = seistron.sample.do_one( # better to run this on a cluster like below \n",
    "    data=example_star, \n",
    "    emulator=emulator, \n",
    "    method='HMC', \n",
    "    num_samples=1e7, \n",
    "    priors=priors, \n",
    "    starting_values=MAP_one) "
   ]
  },
  {
   "cell_type": "code",
   "execution_count": null,
   "id": "1df46746-ef70-4548-9dfa-7c807552531f",
   "metadata": {},
   "outputs": [],
   "source": [
    "seistron.visualize.corner(samples) # show a nice corner plot "
   ]
  },
  {
   "cell_type": "code",
   "execution_count": null,
   "id": "8b630d2e-ef61-4415-b050-2b28c27579b3",
   "metadata": {},
   "outputs": [],
   "source": [
    "seistron.sample.summarize(samples) # print means, standard deviations, and χ2"
   ]
  },
  {
   "cell_type": "markdown",
   "id": "e3b9c906-db57-41fc-a91e-353bb1cf8388",
   "metadata": {},
   "source": [
    "## Mock data test "
   ]
  },
  {
   "cell_type": "code",
   "execution_count": null,
   "id": "b7b1d0a3-0b8c-447d-8d71-26fd4e9aee73",
   "metadata": {},
   "outputs": [],
   "source": [
    "## do a test using mock data based on one of the models \n",
    "# user-specifiable noise levels for observables\n",
    "noise = {'Delta_nu': 0.1,  # in muHz\n",
    "         'nu_max':   2.0,  # in muHz\n",
    "         'Teff':     50.0, # in K\n",
    "         'logg':     0.05}\n",
    "\n",
    "# apply noise to the first model in the data set and try to recover its params \n",
    "mock_test = emulator.generate_mock_data(model_grid.iloc[0], noise)\n",
    "MAP_test = seistron.sample.maximum_a_posteriori(mock_test, \n",
    "    priors=priors, method='nelder-mead') "
   ]
  },
  {
   "cell_type": "code",
   "execution_count": null,
   "id": "c0c258b3-2ce7-48ab-8515-eaf5940b2ee0",
   "metadata": {},
   "outputs": [],
   "source": [
    "samples_test = seistron.sample.do_one(mock_first, emulator=emulator,\n",
    "    num_samples=1e4, priors=priors, starting_values=MAP_test)"
   ]
  },
  {
   "cell_type": "code",
   "execution_count": null,
   "id": "530515e6-2bb1-4a51-bfe0-7193c5ac93bb",
   "metadata": {},
   "outputs": [],
   "source": [
    "seistron.visualize.summarize(samples_test)"
   ]
  },
  {
   "cell_type": "code",
   "execution_count": null,
   "id": "a082fd5e-34c0-4741-b736-f35d553c9597",
   "metadata": {},
   "outputs": [],
   "source": [
    "# see how well the inferences scale with increased noise on the observables \n",
    "noise_factors = {'Delta_nu': [0.1, 0.3, 1, 3, 10]} \n",
    "noise_test = seistron.sample.noise_test(mock_first, \n",
    "    emulator=emulator, num_samples=1e4, priors=priors, \n",
    "    starting_values=MAP_test, noise=noise, noise_factors=noise_factors) "
   ]
  },
  {
   "cell_type": "code",
   "execution_count": null,
   "id": "a48d7b54-df40-49dd-b929-8be686b250ac",
   "metadata": {},
   "outputs": [],
   "source": [
    "seistron.visualize.noise_test(noise_test) "
   ]
  },
  {
   "cell_type": "code",
   "execution_count": null,
   "id": "c7385639-530f-40a0-b6be-661ef4a4adfd",
   "metadata": {},
   "outputs": [],
   "source": [
    "# perhaps we want some wrapper that automates the MAP/sampling/visualizing/summarizing/etc so that we can do it all in one go "
   ]
  },
  {
   "cell_type": "markdown",
   "id": "a9298239-3de6-4740-b8b5-5d5deddc3b9c",
   "metadata": {},
   "source": [
    "## Hierarchical Bayes"
   ]
  },
  {
   "cell_type": "code",
   "execution_count": null,
   "id": "ebfd0b5a-f3ec-4f8d-9f58-403d69d6d794",
   "metadata": {},
   "outputs": [],
   "source": [
    "## hierarchical Bayes for one correlated (shared) parameter while characterizing all the observations of all the stars simultaneously \n",
    "MAP_all = seistron.sample.maximum_a_posteriori(observations, priors=priors, \n",
    "    method='nelder-mead')"
   ]
  },
  {
   "cell_type": "code",
   "execution_count": null,
   "id": "04a00390-4e38-422a-acf9-8b5da83a3203",
   "metadata": {},
   "outputs": [],
   "source": [
    "samples = seistron.sample.hierarchical( # with access to a cluster \n",
    "    data=observations, \n",
    "    emulator=emulator, \n",
    "    method='HMC', \n",
    "    num_samples=1e10, \n",
    "    priors=priors, \n",
    "    correlate={'Y': ['Z', 'age'], # galactic chemical enrichment \n",
    "           'alpha_MLT': ['Teff', 'logg', 'Z'], # convection \n",
    "           'alpha_ov': ['M', 'age', 'Z']}, \n",
    "    correlation_type={'Y': 'linear', \n",
    "                      'alpha_MLT': 'linear', \n",
    "                      'alpha_ov': 'gaussian_process'}, \n",
    "    starting_values=MAP_all, \n",
    "    nproc=128, # number of processes for parallelism \n",
    "    cluster='grace') "
   ]
  },
  {
   "cell_type": "code",
   "execution_count": null,
   "id": "d3661107-5e45-452a-b07c-7565ee769e66",
   "metadata": {},
   "outputs": [],
   "source": [
    "seistron.visualize.corner(samples, \n",
    "    only=['Teff', 'logg', 'Z', 'alpha_MLT']) "
   ]
  },
  {
   "cell_type": "code",
   "execution_count": null,
   "id": "223cd83b-7288-4aec-b6d1-70455819e3f9",
   "metadata": {},
   "outputs": [],
   "source": [
    "## visualize draws from the posterior for one star in the data set \n",
    "seistron.visualize.posterior_samples(example_star, samples) "
   ]
  },
  {
   "cell_type": "code",
   "execution_count": null,
   "id": "cbf47e80-9a53-49fc-81dc-ca55ddfbb557",
   "metadata": {},
   "outputs": [],
   "source": [
    "seistron.visualize.hr_diagram(example_star, \n",
    "    models=model_grid, samples=samples) "
   ]
  },
  {
   "cell_type": "markdown",
   "id": "f365324a-b600-4229-b1e6-712f4fcd634e",
   "metadata": {},
   "source": [
    "## Hierarchical Bayes mock data test"
   ]
  },
  {
   "cell_type": "code",
   "execution_count": null,
   "id": "a2dc3fcf-2aa3-41a2-804a-7c5a1524d465",
   "metadata": {},
   "outputs": [],
   "source": [
    "## mock data test: make mock data out of each of the models in the data set and test our ability to recover correlated parameters \n",
    "# still need to brainstorm a good way to implement this \n",
    "cov_params = lambda inputs: inputs['Y'] = 1.4 * inputs['Z'] + 0.2473 \n",
    "\n",
    "mock_correlated = generate_correlated_mock_data(n_stars=50, \n",
    "    cov_params=cov_params, noise_dict=noise)\n",
    "\n",
    "#samples = seistron.sample.hierarchical..."
   ]
  }
 ],
 "metadata": {
  "kernelspec": {
   "display_name": "Python 3 (ipykernel)",
   "language": "python",
   "name": "python3"
  },
  "language_info": {
   "codemirror_mode": {
    "name": "ipython",
    "version": 3
   },
   "file_extension": ".py",
   "mimetype": "text/x-python",
   "name": "python",
   "nbconvert_exporter": "python",
   "pygments_lexer": "ipython3",
   "version": "3.12.3"
  }
 },
 "nbformat": 4,
 "nbformat_minor": 5
}
